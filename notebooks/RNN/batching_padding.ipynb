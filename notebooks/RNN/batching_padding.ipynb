{
 "cells": [
  {
   "cell_type": "code",
   "execution_count": null,
   "metadata": {
    "collapsed": true
   },
   "outputs": [],
   "source": [
    "import tensorflow as tf\n",
    "import numpy as np"
   ]
  },
  {
   "cell_type": "code",
   "execution_count": null,
   "metadata": {
    "collapsed": false
   },
   "outputs": [],
   "source": [
    "# Example with tf.train.batch dynamic padding\n",
    "# ==================================================\n",
    "\n",
    "tf.reset_default_graph()\n",
    "\n",
    "# Create a tensor [0, 1, 2, 3, 4 ,...]\n",
    "x = tf.range(1, 50, name=\"x\")\n",
    "\n",
    "# A queue that outputs 0,1,2,3,...\n",
    "range_q = tf.train.range_input_producer(limit=50, shuffle=True)\n",
    "slice_end = range_q.dequeue()\n",
    "\n",
    "# Slice x to variable length, i.e. [0], [0, 1], [0, 1, 2], ....\n",
    "y = tf.slice(x, [0], [slice_end], name=\"y\")\n",
    "\n",
    "print(y)\n",
    "\n",
    "# Batch the variable length tensor with dynamic padding\n",
    "batched_data, batch_leng = tf.train.batch(\n",
    "    tensors=[y, slice_end],\n",
    "    batch_size=100,\n",
    "    dynamic_pad=True,\n",
    "    name=\"y_batch\"\n",
    ")\n",
    "\n",
    "print(batched_data)\n",
    "print(batch_leng) \n",
    "\n",
    "# Run the graph\n",
    "# tf.contrib.learn takes care of starting the queues for us\n",
    "res = tf.contrib.learn.run_n({\"y\": batched_data, 'len':batch_leng}, n=10, feed_dict=None)\n",
    "\n",
    "# Print the result\n",
    "print len(res)\n",
    "print res[0][\"y\"]\n",
    "print res[0][\"len\"]\n",
    "\n",
    "inputs= np.array([batch_input[\"y\"] for batch_input in res])\n",
    "print inputs.shape\n",
    "input_length= np.array([batch_input[\"len\"] for batch_input in res])\n",
    "print input_length.shape\n",
    "outputs = np.array([batch_input[\"y\"] for batch_input in res])\n",
    "print outputs.shape\n"
   ]
  },
  {
   "cell_type": "code",
   "execution_count": null,
   "metadata": {
    "collapsed": true
   },
   "outputs": [],
   "source": []
  }
 ],
 "metadata": {
  "kernelspec": {
   "display_name": "Python 2",
   "language": "python",
   "name": "python2"
  },
  "language_info": {
   "codemirror_mode": {
    "name": "ipython",
    "version": 2
   },
   "file_extension": ".py",
   "mimetype": "text/x-python",
   "name": "python",
   "nbconvert_exporter": "python",
   "pygments_lexer": "ipython2",
   "version": "2.7.10"
  }
 },
 "nbformat": 4,
 "nbformat_minor": 0
}
