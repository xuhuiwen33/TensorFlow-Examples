{
 "cells": [
  {
   "cell_type": "code",
   "execution_count": null,
   "metadata": {
    "collapsed": false
   },
   "outputs": [],
   "source": [
    "import numpy as np\n",
    "import tensorflow as tf"
   ]
  },
  {
   "cell_type": "code",
   "execution_count": null,
   "metadata": {
    "collapsed": false
   },
   "outputs": [],
   "source": [
    "# Example with tf.train.batch dynamic padding\n",
    "# ==================================================\n",
    "\n",
    "tf.reset_default_graph()\n",
    "\n",
    "# Create a tensor [0, 1, 2, 3, 4 ,...]\n",
    "x = tf.range(1, 51, name=\"x\")\n",
    "\n",
    "# A queue that outputs 0,1,2,3,...\n",
    "range_q = tf.train.range_input_producer(limit=51, shuffle=True)\n",
    "slice_end = range_q.dequeue()\n",
    "\n",
    "# Slice x to variable length, i.e. [0], [0, 1], [0, 1, 2], ....\n",
    "y = tf.slice(x, [0], [slice_end], name=\"y\")\n",
    "\n",
    "print(y)\n",
    "\n",
    "# Batch the variable length tensor with dynamic padding\n",
    "batched_data, batch_leng = tf.train.batch(\n",
    "    tensors=[y, slice_end],\n",
    "    batch_size=100,\n",
    "    dynamic_pad=True,\n",
    "    name=\"y_batch\"\n",
    ")\n",
    "\n",
    "print(batched_data)\n",
    "print(batch_leng) \n",
    "\n",
    "# Run the graph\n",
    "# tf.contrib.learn takes care of starting the queues for us\n",
    "res = tf.contrib.learn.run_n({\"y\": batched_data, 'len':batch_leng}, n=100, feed_dict=None)\n",
    "\n",
    "# Print the result\n",
    "print len(res)\n",
    "print res[0][\"y\"]\n",
    "print res[0][\"len\"]\n",
    "\n",
    "input_label= np.array([batch_input[\"y\"] for batch_input in res])\n",
    "input_length= np.array([batch_input[\"len\"] for batch_input in res])\n",
    "y_label = (np.array([batch_input[\"y\"] for batch_input in res])-1) * (1*(input_label>0))\n",
    "input_mask = 1.0*(input_label>0)\n",
    "\n",
    "print input_label.shape\n",
    "print input_mask.shape\n",
    "print input_length.shape\n",
    "print y_label.shape"
   ]
  },
  {
   "cell_type": "code",
   "execution_count": null,
   "metadata": {
    "collapsed": false
   },
   "outputs": [],
   "source": [
    "from tensorflow.python.ops import rnn, rnn_cell\n",
    "from tensorflow.python.ops import tensor_array_ops\n",
    "# Parameters\n",
    "learning_rate = 0.0001\n",
    "training_iters = 100000\n",
    "batch_size = 100\n",
    "display_step = 10\n",
    "epoch_per_step = 100\n",
    "\n",
    "# Network Parameters\n",
    "n_input = 1\n",
    "n_steps = 50 # timesteps\n",
    "n_hidden = 256 # hidden layer num of features\n",
    "n_classes = 50 # total classes\n",
    "\n",
    "# tf Graph input\n",
    "x = tf.placeholder(\"float32\", [None, n_steps, n_input])\n",
    "y = tf.placeholder(\"int32\", [None, n_steps])\n",
    "mask = tf.placeholder(\"float32\", [None, n_steps])\n",
    "len_info = tf.placeholder(\"int32\", [None])\n",
    "initializer = tf.uniform_unit_scaling_initializer(1.0)\n",
    "# \n",
    "Wi = tf.get_variable('Wi', [n_input, n_hidden], initializer = initializer)\n",
    "Wh = tf.get_variable('Wh', [n_hidden, n_hidden], initializer = initializer)\n",
    "bh = tf.get_variable('bh', [n_hidden], initializer=tf.constant_initializer(0.01))\n",
    "Wy = tf.get_variable('Wy', [n_hidden, n_classes], initializer = initializer)\n",
    "by = tf.get_variable('by', [n_classes], initializer=tf.constant_initializer(0.01))\n",
    "tf.get_variable_scope().reuse_variables()\n",
    "outputs = tensor_array_ops.TensorArray(dtype=tf.float32, size=0, dynamic_size=True,\\\n",
    "     tensor_array_name=\"outputs\", clear_after_read=False)"
   ]
  },
  {
   "cell_type": "code",
   "execution_count": null,
   "metadata": {
    "collapsed": false
   },
   "outputs": [],
   "source": [
    "def DRNN(x, batch_len):\n",
    "\n",
    "    # Prepare data shape to match `rnn` function requirements\n",
    "    # Current data input shape: (batch_size, n_steps)\n",
    "    # Required shape: 'n_steps' tensors list of shape (batch_size)\n",
    "    \n",
    "    # Permuting batch_size and n_steps\n",
    "    x = tf.transpose(x, [1, 0, 2])\n",
    "    \n",
    "    #Get largest len in batch\n",
    "    largest_len = tf.reduce_max(batch_len)\n",
    "    #TensorArray\n",
    "\n",
    "    iterator = tf.constant(0, dtype=tf.int32)\n",
    "    state_0 = tf.constant(0.0, shape=[batch_size, n_hidden])\n",
    "    #Max time step is not fixed as largest_len\n",
    "    def rnn_cell(rnn_input, state):\n",
    "        n_state = tf.tanh(tf.matmul(rnn_input, Wi) + tf.matmul(state, Wh) + bh)\n",
    "        output = tf.matmul(n_state, Wy) + by\n",
    "        return n_state, output\n",
    "    def cond(iterator, outputs, inputs, state):\n",
    "        return tf.less(iterator, largest_len)\n",
    "    def body(iterator, outputs, inputs, state):\n",
    "        rnn_input = tf.slice(inputs, [iterator, 0, 0], [1, batch_size, n_input])\n",
    "        rnn_input = tf.reshape(rnn_input, [batch_size, n_input])\n",
    "        n_state, output = rnn_cell(rnn_input, state)\n",
    "        #Write output\n",
    "        outputs = outputs.write(iterator, output)\n",
    "        return iterator+1, outputs, inputs, n_state\n",
    "    _, rnn_outputs, _, last_state = tf.while_loop(cond, body, [iterator, outputs, x, state_0])\n",
    "    rnn_outputs = rnn_outputs.pack()\n",
    "    rnn_outputs.set_shape([None, batch_size, n_classes]) \n",
    "    # Permuting batch_size and n_steps\n",
    "    rnn_outputs = tf.transpose(rnn_outputs,perm=[1, 0, 2])\n",
    "    # Linear activation, using rnn inner loop last output\n",
    "    return rnn_outputs\n",
    "\n",
    "pred = DRNN(x, len_info)\n",
    "final_outputs = tf.reshape(pred, [-1, n_classes])\n",
    "\n",
    "# Define loss and optimizer\n",
    "cost = tf.nn.seq2seq.sequence_loss([final_outputs], [tf.reshape(y, [-1])], [tf.reshape(mask, [-1])])\n",
    "\n",
    "#Calculate gradients\n",
    "optimizer = tf.train.AdamOptimizer(learning_rate=learning_rate).minimize(cost)\n",
    "\n",
    "\n",
    "outputs.close()\n",
    "\n",
    "# Initializing the variables\n",
    "init = tf.initialize_all_variables()"
   ]
  },
  {
   "cell_type": "code",
   "execution_count": null,
   "metadata": {
    "collapsed": false
   },
   "outputs": [],
   "source": [
    "# Launch the graph\n",
    "with tf.Session() as sess:\n",
    "    sess.run(init)\n",
    "    step = 1\n",
    "    # Keep training until reach max iterations\n",
    "    while step * batch_size < training_iters:\n",
    "        batch_x, batch_y = \\\n",
    "            input_label[step%epoch_per_step], y_label[step%epoch_per_step]\n",
    "        batch_input_len , batch_mask = \\\n",
    "            input_length[step%epoch_per_step], input_mask[step%epoch_per_step]\n",
    "        # Reshape data to get 28 seq of 28 elements\n",
    "        batch_x = batch_x.reshape((batch_size, n_steps, n_input))\n",
    "        batch_y = batch_y.reshape((batch_size, n_steps))\n",
    "        # Run optimization op (backprop)\n",
    "        _,  loss = sess.run([optimizer, cost],\\\n",
    "                                feed_dict={x: batch_x, y: batch_y ,\\\n",
    "                                len_info: batch_input_len, mask: batch_mask})\n",
    "\n",
    "        if step % display_step == 0:\n",
    "            print \"Iter \" + str(step*batch_size) + \", Minibatch Loss= \" + \\\n",
    "                  \"{:.6f}\".format(loss)\n",
    "        step += 1\n",
    "    print \"Optimization Finished!\"\n"
   ]
  },
  {
   "cell_type": "code",
   "execution_count": null,
   "metadata": {
    "collapsed": true
   },
   "outputs": [],
   "source": []
  }
 ],
 "metadata": {
  "kernelspec": {
   "display_name": "Python 2",
   "language": "python",
   "name": "python2"
  },
  "language_info": {
   "codemirror_mode": {
    "name": "ipython",
    "version": 2
   },
   "file_extension": ".py",
   "mimetype": "text/x-python",
   "name": "python",
   "nbconvert_exporter": "python",
   "pygments_lexer": "ipython2",
   "version": "2.7.10"
  }
 },
 "nbformat": 4,
 "nbformat_minor": 0
}
