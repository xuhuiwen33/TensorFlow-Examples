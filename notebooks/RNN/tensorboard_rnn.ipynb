{
 "cells": [
  {
   "cell_type": "code",
   "execution_count": 1,
   "metadata": {
    "collapsed": false
   },
   "outputs": [
    {
     "data": {
      "text/plain": [
       "'\\nA Reccurent Neural Network (LSTM) implementation example using TensorFlow library.\\nThis example is using the MNIST database of handwritten digits (http://yann.lecun.com/exdb/mnist/)\\nLong Short Term Memory paper: http://deeplearning.cs.cmu.edu/pdfs/Hochreiter97_lstm.pdf\\n\\nAuthor: Aymeric Damien\\nProject: https://github.com/aymericdamien/TensorFlow-Examples/\\n'"
      ]
     },
     "execution_count": 1,
     "metadata": {},
     "output_type": "execute_result"
    }
   ],
   "source": [
    "'''\n",
    "A Reccurent Neural Network (LSTM) implementation example using TensorFlow library.\n",
    "This example is using the MNIST database of handwritten digits (http://yann.lecun.com/exdb/mnist/)\n",
    "Long Short Term Memory paper: http://deeplearning.cs.cmu.edu/pdfs/Hochreiter97_lstm.pdf\n",
    "\n",
    "Author: Aymeric Damien\n",
    "Project: https://github.com/aymericdamien/TensorFlow-Examples/\n",
    "'''"
   ]
  },
  {
   "cell_type": "code",
   "execution_count": 2,
   "metadata": {
    "collapsed": false
   },
   "outputs": [
    {
     "name": "stdout",
     "output_type": "stream",
     "text": [
      "Extracting /tmp/data/train-images-idx3-ubyte.gz\n",
      "Extracting /tmp/data/train-labels-idx1-ubyte.gz\n",
      "Extracting /tmp/data/t10k-images-idx3-ubyte.gz\n",
      "Extracting /tmp/data/t10k-labels-idx1-ubyte.gz\n"
     ]
    }
   ],
   "source": [
    "import tensorflow as tf\n",
    "from tensorflow.python.ops import rnn, rnn_cell\n",
    "import numpy as np\n",
    "\n",
    "# Import MINST data\n",
    "from tensorflow.examples.tutorials.mnist import input_data\n",
    "mnist = input_data.read_data_sets(\"/tmp/data/\", one_hot=True)"
   ]
  },
  {
   "cell_type": "code",
   "execution_count": 3,
   "metadata": {
    "collapsed": false
   },
   "outputs": [
    {
     "data": {
      "text/plain": [
       "'\\nTo classify images using a reccurent neural network, we consider every image\\nrow as a sequence of pixels. Because MNIST image shape is 28*28px, we will then\\nhandle 28 sequences of 28 steps for every sample.\\n'"
      ]
     },
     "execution_count": 3,
     "metadata": {},
     "output_type": "execute_result"
    }
   ],
   "source": [
    "'''\n",
    "To classify images using a reccurent neural network, we consider every image\n",
    "row as a sequence of pixels. Because MNIST image shape is 28*28px, we will then\n",
    "handle 28 sequences of 28 steps for every sample.\n",
    "'''"
   ]
  },
  {
   "cell_type": "code",
   "execution_count": 4,
   "metadata": {
    "collapsed": false
   },
   "outputs": [],
   "source": [
    "# Parameters\n",
    "learning_rate = 0.001\n",
    "training_iters = 100000\n",
    "batch_size = 128\n",
    "display_step = 10\n",
    "\n",
    "# Network Parameters\n",
    "n_input = 28 # MNIST data input (img shape: 28*28)\n",
    "n_steps = 28 # timesteps\n",
    "n_hidden = 128 # hidden layer num of features\n",
    "n_classes = 10 # MNIST total classes (0-9 digits)\n",
    "\n",
    "# tf Graph input\n",
    "x = tf.placeholder(\"float\", [None, n_steps, n_input])\n",
    "y = tf.placeholder(\"float\", [None, n_classes])\n",
    "\n",
    "# Define weights\n",
    "weights = {\n",
    "    'out': tf.Variable(tf.random_normal([n_hidden, n_classes]))\n",
    "}\n",
    "biases = {\n",
    "    'out': tf.Variable(tf.random_normal([n_classes]))\n",
    "}"
   ]
  },
  {
   "cell_type": "code",
   "execution_count": 6,
   "metadata": {
    "collapsed": false
   },
   "outputs": [],
   "source": [
    "def RNN(x, weights, biases):\n",
    "\n",
    "    # Prepare data shape to match `rnn` function requirements\n",
    "    # Current data input shape: (batch_size, n_steps, n_input)\n",
    "    # Required shape: 'n_steps' tensors list of shape (batch_size, n_input)\n",
    "    \n",
    "    # Permuting batch_size and n_steps\n",
    "    x = tf.transpose(x, [1, 0, 2])\n",
    "    # Reshaping to (n_steps*batch_size, n_input)\n",
    "    x = tf.reshape(x, [-1, n_input])\n",
    "    # Split to get a list of 'n_steps' tensors of shape (batch_size, n_input)\n",
    "    x = tf.split(0, n_steps, x)\n",
    "\n",
    "    # Define a lstm cell with tensorflow\n",
    "    lstm_cell = rnn_cell.BasicLSTMCell(n_hidden, forget_bias=1.0)\n",
    "\n",
    "    # Get lstm cell output\n",
    "    outputs, states = rnn.rnn(lstm_cell, x, dtype=tf.float32)\n",
    "\n",
    "    # Linear activation, using rnn inner loop last output\n",
    "    return tf.matmul(outputs[-1], weights['out']) + biases['out']\n",
    "\n",
    "pred = RNN(x, weights, biases)\n",
    "\n",
    "# Define loss and optimizer\n",
    "cost = tf.reduce_mean(tf.nn.softmax_cross_entropy_with_logits(pred, y))\n",
    "optimizer = tf.train.AdamOptimizer(learning_rate=learning_rate).minimize(cost)\n",
    "\n",
    "# Evaluate model\n",
    "correct_pred = tf.equal(tf.argmax(pred,1), tf.argmax(y,1))\n",
    "accuracy = tf.reduce_mean(tf.cast(correct_pred, tf.float32))\n",
    "\n",
    "# Initializing the variables\n",
    "init = tf.initialize_all_variables()\n",
    "# Create a summary to monitor cost tensor\n",
    "tf.scalar_summary(\"loss\", cost)\n",
    "# Create a summary to monitor accuracy tensor\n",
    "tf.scalar_summary(\"accuracy\", accuracy)\n",
    "# Merge all summaries into a single op\n",
    "merged_summary_op = tf.merge_all_summaries()"
   ]
  },
  {
   "cell_type": "code",
   "execution_count": 7,
   "metadata": {
    "collapsed": false
   },
   "outputs": [
    {
     "name": "stdout",
     "output_type": "stream",
     "text": [
      "Iter 1280, Minibatch Loss= 1.785699, Training Accuracy= 0.38281\n",
      "Iter 2560, Minibatch Loss= 1.457692, Training Accuracy= 0.52344\n",
      "Iter 3840, Minibatch Loss= 1.223019, Training Accuracy= 0.55469\n",
      "Iter 5120, Minibatch Loss= 0.999560, Training Accuracy= 0.65625\n",
      "Iter 6400, Minibatch Loss= 0.716744, Training Accuracy= 0.73438\n",
      "Iter 7680, Minibatch Loss= 0.930138, Training Accuracy= 0.67188\n",
      "Iter 8960, Minibatch Loss= 0.701243, Training Accuracy= 0.78906\n",
      "Iter 10240, Minibatch Loss= 0.506645, Training Accuracy= 0.84375\n",
      "Iter 11520, Minibatch Loss= 0.320457, Training Accuracy= 0.92188\n",
      "Iter 12800, Minibatch Loss= 0.526326, Training Accuracy= 0.80469\n",
      "Iter 14080, Minibatch Loss= 0.449412, Training Accuracy= 0.85156\n",
      "Iter 15360, Minibatch Loss= 0.269102, Training Accuracy= 0.89844\n",
      "Iter 16640, Minibatch Loss= 0.371394, Training Accuracy= 0.92969\n",
      "Iter 17920, Minibatch Loss= 0.279543, Training Accuracy= 0.89062\n",
      "Iter 19200, Minibatch Loss= 0.243161, Training Accuracy= 0.92188\n",
      "Iter 20480, Minibatch Loss= 0.154273, Training Accuracy= 0.95312\n",
      "Iter 21760, Minibatch Loss= 0.419141, Training Accuracy= 0.85938\n",
      "Iter 23040, Minibatch Loss= 0.137138, Training Accuracy= 0.95312\n",
      "Iter 24320, Minibatch Loss= 0.365538, Training Accuracy= 0.88281\n",
      "Iter 25600, Minibatch Loss= 0.377121, Training Accuracy= 0.86719\n",
      "Iter 26880, Minibatch Loss= 0.226685, Training Accuracy= 0.94531\n",
      "Iter 28160, Minibatch Loss= 0.204700, Training Accuracy= 0.94531\n",
      "Iter 29440, Minibatch Loss= 0.199000, Training Accuracy= 0.93750\n",
      "Iter 30720, Minibatch Loss= 0.258220, Training Accuracy= 0.89062\n",
      "Iter 32000, Minibatch Loss= 0.168609, Training Accuracy= 0.93750\n",
      "Iter 33280, Minibatch Loss= 0.206679, Training Accuracy= 0.92188\n",
      "Iter 34560, Minibatch Loss= 0.198495, Training Accuracy= 0.93750\n",
      "Iter 35840, Minibatch Loss= 0.222164, Training Accuracy= 0.92969\n",
      "Iter 37120, Minibatch Loss= 0.284681, Training Accuracy= 0.91406\n",
      "Iter 38400, Minibatch Loss= 0.145509, Training Accuracy= 0.93750\n",
      "Iter 39680, Minibatch Loss= 0.159106, Training Accuracy= 0.92969\n",
      "Iter 40960, Minibatch Loss= 0.245430, Training Accuracy= 0.89062\n",
      "Iter 42240, Minibatch Loss= 0.177684, Training Accuracy= 0.96875\n",
      "Iter 43520, Minibatch Loss= 0.108852, Training Accuracy= 0.93750\n",
      "Iter 44800, Minibatch Loss= 0.172208, Training Accuracy= 0.92969\n",
      "Iter 46080, Minibatch Loss= 0.068144, Training Accuracy= 0.99219\n",
      "Iter 47360, Minibatch Loss= 0.183923, Training Accuracy= 0.94531\n",
      "Iter 48640, Minibatch Loss= 0.201376, Training Accuracy= 0.94531\n",
      "Iter 49920, Minibatch Loss= 0.182305, Training Accuracy= 0.92969\n",
      "Iter 51200, Minibatch Loss= 0.098346, Training Accuracy= 0.96094\n",
      "Iter 52480, Minibatch Loss= 0.198831, Training Accuracy= 0.92969\n",
      "Iter 53760, Minibatch Loss= 0.044567, Training Accuracy= 0.99219\n",
      "Iter 55040, Minibatch Loss= 0.074872, Training Accuracy= 0.98438\n",
      "Iter 56320, Minibatch Loss= 0.079049, Training Accuracy= 0.97656\n",
      "Iter 57600, Minibatch Loss= 0.137480, Training Accuracy= 0.96875\n",
      "Iter 58880, Minibatch Loss= 0.139521, Training Accuracy= 0.95312\n",
      "Iter 60160, Minibatch Loss= 0.285510, Training Accuracy= 0.92969\n",
      "Iter 61440, Minibatch Loss= 0.132061, Training Accuracy= 0.95312\n",
      "Iter 62720, Minibatch Loss= 0.120974, Training Accuracy= 0.95312\n",
      "Iter 64000, Minibatch Loss= 0.087849, Training Accuracy= 0.96875\n",
      "Iter 65280, Minibatch Loss= 0.104918, Training Accuracy= 0.96094\n",
      "Iter 66560, Minibatch Loss= 0.087636, Training Accuracy= 0.96875\n",
      "Iter 67840, Minibatch Loss= 0.109248, Training Accuracy= 0.97656\n",
      "Iter 69120, Minibatch Loss= 0.070644, Training Accuracy= 0.97656\n",
      "Iter 70400, Minibatch Loss= 0.166813, Training Accuracy= 0.93750\n",
      "Iter 71680, Minibatch Loss= 0.130106, Training Accuracy= 0.96094\n",
      "Iter 72960, Minibatch Loss= 0.068923, Training Accuracy= 0.99219\n",
      "Iter 74240, Minibatch Loss= 0.185962, Training Accuracy= 0.93750\n",
      "Iter 75520, Minibatch Loss= 0.117781, Training Accuracy= 0.95312\n",
      "Iter 76800, Minibatch Loss= 0.070565, Training Accuracy= 0.97656\n",
      "Iter 78080, Minibatch Loss= 0.082078, Training Accuracy= 0.96094\n",
      "Iter 79360, Minibatch Loss= 0.097164, Training Accuracy= 0.97656\n",
      "Iter 80640, Minibatch Loss= 0.098574, Training Accuracy= 0.96094\n",
      "Iter 81920, Minibatch Loss= 0.091456, Training Accuracy= 0.97656\n",
      "Iter 83200, Minibatch Loss= 0.124059, Training Accuracy= 0.96875\n",
      "Iter 84480, Minibatch Loss= 0.141406, Training Accuracy= 0.92969\n",
      "Iter 85760, Minibatch Loss= 0.073905, Training Accuracy= 0.96875\n",
      "Iter 87040, Minibatch Loss= 0.145745, Training Accuracy= 0.94531\n",
      "Iter 88320, Minibatch Loss= 0.067973, Training Accuracy= 0.98438\n",
      "Iter 89600, Minibatch Loss= 0.104313, Training Accuracy= 0.96094\n",
      "Iter 90880, Minibatch Loss= 0.170748, Training Accuracy= 0.94531\n",
      "Iter 92160, Minibatch Loss= 0.163013, Training Accuracy= 0.92969\n",
      "Iter 93440, Minibatch Loss= 0.085235, Training Accuracy= 0.97656\n",
      "Iter 94720, Minibatch Loss= 0.029969, Training Accuracy= 0.99219\n",
      "Iter 96000, Minibatch Loss= 0.164461, Training Accuracy= 0.96875\n",
      "Iter 97280, Minibatch Loss= 0.098795, Training Accuracy= 0.96875\n",
      "Iter 98560, Minibatch Loss= 0.044418, Training Accuracy= 0.98438\n",
      "Iter 99840, Minibatch Loss= 0.063666, Training Accuracy= 0.98438\n",
      "Optimization Finished!\n",
      "Testing Accuracy: 0.96875\n"
     ]
    }
   ],
   "source": [
    "# Launch the graph\n",
    "with tf.Session() as sess:\n",
    "    sess.run(init)\n",
    "    step = 1\n",
    "    # Write logs at every iteration\n",
    "    summary_writer = tf.train.SummaryWriter('./logs', graph=tf.get_default_graph())\n",
    "    # Keep training until reach max iterations\n",
    "    while step * batch_size < training_iters:\n",
    "        batch_x, batch_y = mnist.train.next_batch(batch_size)\n",
    "        # Reshape data to get 28 seq of 28 elements\n",
    "        batch_x = batch_x.reshape((batch_size, n_steps, n_input))\n",
    "        # Run optimization op (backprop)\n",
    "        sess.run(optimizer, feed_dict={x: batch_x, y: batch_y})\n",
    "        if step % display_step == 0:\n",
    "            # Calculate batch accuracy\n",
    "            #acc = sess.run(accuracy, feed_dict={x: batch_x, y: batch_y})\n",
    "            # Calculate batch loss\n",
    "            loss, acc, summary = sess.run([cost, accuracy, merged_summary_op], feed_dict={x: batch_x, y: batch_y})\n",
    "            print \"Iter \" + str(step*batch_size) + \", Minibatch Loss= \" + \\\n",
    "                  \"{:.6f}\".format(loss) + \", Training Accuracy= \" + \\\n",
    "                  \"{:.5f}\".format(acc)\n",
    "              # Calculate batch loss\n",
    "            # Write logs at every iteration\n",
    "            summary_writer.add_summary(summary, step)\n",
    "        step += 1\n",
    "    print \"Optimization Finished!\"\n",
    "\n",
    "    # Calculate accuracy for 128 mnist test images\n",
    "    test_len = 128\n",
    "    test_data = mnist.test.images[:test_len].reshape((-1, n_steps, n_input))\n",
    "    test_label = mnist.test.labels[:test_len]\n",
    "    print \"Testing Accuracy:\", \\\n",
    "        sess.run(accuracy, feed_dict={x: test_data, y: test_label})"
   ]
  },
  {
   "cell_type": "code",
   "execution_count": null,
   "metadata": {
    "collapsed": false
   },
   "outputs": [],
   "source": [
    "test_data = mnist.test.images[:1].reshape((-1, n_steps, n_input))\n",
    "print test_data\n",
    "test_label = mnist.test.labels[:1]\n",
    "print test_label\n"
   ]
  },
  {
   "cell_type": "code",
   "execution_count": null,
   "metadata": {
    "collapsed": false
   },
   "outputs": [],
   "source": [
    "print test_data.shape\n",
    "%matplotlib inline\n",
    "import matplotlib.pyplot as plt\n",
    "first_array=test_data[0]\n",
    "#Not sure you even have to do that if you just want to visualize it\n",
    "#first_array=255*first_array\n",
    "#first_array=first_array.astype(\"uint8\")\n",
    "plt.imshow(first_array)\n",
    "print np.argmax(test_label)"
   ]
  },
  {
   "cell_type": "code",
   "execution_count": null,
   "metadata": {
    "collapsed": true
   },
   "outputs": [],
   "source": []
  }
 ],
 "metadata": {
  "kernelspec": {
   "display_name": "Python 2",
   "language": "python",
   "name": "python2"
  },
  "language_info": {
   "codemirror_mode": {
    "name": "ipython",
    "version": 2
   },
   "file_extension": ".py",
   "mimetype": "text/x-python",
   "name": "python",
   "nbconvert_exporter": "python",
   "pygments_lexer": "ipython2",
   "version": "2.7.10"
  }
 },
 "nbformat": 4,
 "nbformat_minor": 0
}
