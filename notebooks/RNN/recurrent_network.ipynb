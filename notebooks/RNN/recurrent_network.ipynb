{
 "cells": [
  {
   "cell_type": "code",
   "execution_count": 1,
   "metadata": {
    "collapsed": false
   },
   "outputs": [
    {
     "data": {
      "text/plain": [
       "'\\nA Reccurent Neural Network (LSTM) implementation example using TensorFlow library.\\nThis example is using the MNIST database of handwritten digits (http://yann.lecun.com/exdb/mnist/)\\nLong Short Term Memory paper: http://deeplearning.cs.cmu.edu/pdfs/Hochreiter97_lstm.pdf\\n\\nAuthor: Aymeric Damien\\nProject: https://github.com/aymericdamien/TensorFlow-Examples/\\n'"
      ]
     },
     "execution_count": 1,
     "metadata": {},
     "output_type": "execute_result"
    }
   ],
   "source": [
    "'''\n",
    "A Reccurent Neural Network (LSTM) implementation example using TensorFlow library.\n",
    "This example is using the MNIST database of handwritten digits (http://yann.lecun.com/exdb/mnist/)\n",
    "Long Short Term Memory paper: http://deeplearning.cs.cmu.edu/pdfs/Hochreiter97_lstm.pdf\n",
    "\n",
    "Author: Aymeric Damien\n",
    "Project: https://github.com/aymericdamien/TensorFlow-Examples/\n",
    "'''"
   ]
  },
  {
   "cell_type": "code",
   "execution_count": 2,
   "metadata": {
    "collapsed": false
   },
   "outputs": [
    {
     "name": "stdout",
     "output_type": "stream",
     "text": [
      "Extracting /tmp/data/train-images-idx3-ubyte.gz\n",
      "Extracting /tmp/data/train-labels-idx1-ubyte.gz\n",
      "Extracting /tmp/data/t10k-images-idx3-ubyte.gz\n",
      "Extracting /tmp/data/t10k-labels-idx1-ubyte.gz\n"
     ]
    }
   ],
   "source": [
    "import tensorflow as tf\n",
    "from tensorflow.python.ops import rnn, rnn_cell\n",
    "import numpy as np\n",
    "\n",
    "# Import MINST data\n",
    "from tensorflow.examples.tutorials.mnist import input_data\n",
    "mnist = input_data.read_data_sets(\"/tmp/data/\", one_hot=True)"
   ]
  },
  {
   "cell_type": "code",
   "execution_count": 3,
   "metadata": {
    "collapsed": false
   },
   "outputs": [
    {
     "data": {
      "text/plain": [
       "'\\nTo classify images using a reccurent neural network, we consider every image\\nrow as a sequence of pixels. Because MNIST image shape is 28*28px, we will then\\nhandle 28 sequences of 28 steps for every sample.\\n'"
      ]
     },
     "execution_count": 3,
     "metadata": {},
     "output_type": "execute_result"
    }
   ],
   "source": [
    "'''\n",
    "To classify images using a reccurent neural network, we consider every image\n",
    "row as a sequence of pixels. Because MNIST image shape is 28*28px, we will then\n",
    "handle 28 sequences of 28 steps for every sample.\n",
    "'''"
   ]
  },
  {
   "cell_type": "code",
   "execution_count": 4,
   "metadata": {
    "collapsed": true
   },
   "outputs": [],
   "source": [
    "# Parameters\n",
    "learning_rate = 0.001\n",
    "training_iters = 100000\n",
    "batch_size = 128\n",
    "display_step = 10\n",
    "\n",
    "# Network Parameters\n",
    "n_input = 28 # MNIST data input (img shape: 28*28)\n",
    "n_steps = 28 # timesteps\n",
    "n_hidden = 128 # hidden layer num of features\n",
    "n_classes = 10 # MNIST total classes (0-9 digits)\n",
    "\n",
    "# tf Graph input\n",
    "x = tf.placeholder(\"float\", [None, n_steps, n_input])\n",
    "y = tf.placeholder(\"float\", [None, n_classes])\n",
    "\n",
    "# Define weights\n",
    "weights = {\n",
    "    'out': tf.Variable(tf.random_normal([n_hidden, n_classes]))\n",
    "}\n",
    "biases = {\n",
    "    'out': tf.Variable(tf.random_normal([n_classes]))\n",
    "}"
   ]
  },
  {
   "cell_type": "code",
   "execution_count": 5,
   "metadata": {
    "collapsed": false
   },
   "outputs": [],
   "source": [
    "def RNN(x, weights, biases):\n",
    "\n",
    "    # Prepare data shape to match `rnn` function requirements\n",
    "    # Current data input shape: (batch_size, n_steps, n_input)\n",
    "    # Required shape: 'n_steps' tensors list of shape (batch_size, n_input)\n",
    "    \n",
    "    # Permuting batch_size and n_steps\n",
    "    x = tf.transpose(x, [1, 0, 2])\n",
    "    # Reshaping to (n_steps*batch_size, n_input)\n",
    "    x = tf.reshape(x, [-1, n_input])\n",
    "    # Split to get a list of 'n_steps' tensors of shape (batch_size, n_input)\n",
    "    x = tf.split(0, n_steps, x)\n",
    "\n",
    "    # Define a lstm cell with tensorflow\n",
    "    lstm_cell = rnn_cell.BasicLSTMCell(n_hidden, forget_bias=1.0)\n",
    "\n",
    "    # Get lstm cell output\n",
    "    outputs, states = rnn.rnn(lstm_cell, x, dtype=tf.float32)\n",
    "\n",
    "    # Linear activation, using rnn inner loop last output\n",
    "    return tf.matmul(outputs[-1], weights['out']) + biases['out']\n",
    "\n",
    "pred = RNN(x, weights, biases)\n",
    "\n",
    "# Define loss and optimizer\n",
    "cost = tf.reduce_mean(tf.nn.softmax_cross_entropy_with_logits(pred, y))\n",
    "optimizer = tf.train.AdamOptimizer(learning_rate=learning_rate).minimize(cost)\n",
    "\n",
    "# Evaluate model\n",
    "correct_pred = tf.equal(tf.argmax(pred,1), tf.argmax(y,1))\n",
    "accuracy = tf.reduce_mean(tf.cast(correct_pred, tf.float32))\n",
    "\n",
    "# Initializing the variables\n",
    "init = tf.initialize_all_variables()"
   ]
  },
  {
   "cell_type": "code",
   "execution_count": 6,
   "metadata": {
    "collapsed": false
   },
   "outputs": [
    {
     "name": "stdout",
     "output_type": "stream",
     "text": [
      "Iter 1280, Minibatch Loss= 1.802201, Training Accuracy= 0.38281\n",
      "Iter 2560, Minibatch Loss= 1.488374, Training Accuracy= 0.53906\n",
      "Iter 3840, Minibatch Loss= 1.198038, Training Accuracy= 0.58594\n",
      "Iter 5120, Minibatch Loss= 0.834570, Training Accuracy= 0.72656\n",
      "Iter 6400, Minibatch Loss= 0.654914, Training Accuracy= 0.78125\n",
      "Iter 7680, Minibatch Loss= 1.033477, Training Accuracy= 0.71094\n",
      "Iter 8960, Minibatch Loss= 0.651782, Training Accuracy= 0.79688\n",
      "Iter 10240, Minibatch Loss= 0.515484, Training Accuracy= 0.81250\n",
      "Iter 11520, Minibatch Loss= 0.323801, Training Accuracy= 0.92188\n",
      "Iter 12800, Minibatch Loss= 0.560313, Training Accuracy= 0.84375\n",
      "Iter 14080, Minibatch Loss= 0.385839, Training Accuracy= 0.88281\n",
      "Iter 15360, Minibatch Loss= 0.333695, Training Accuracy= 0.88281\n",
      "Iter 16640, Minibatch Loss= 0.389197, Training Accuracy= 0.90625\n",
      "Iter 17920, Minibatch Loss= 0.272849, Training Accuracy= 0.92188\n",
      "Iter 19200, Minibatch Loss= 0.251369, Training Accuracy= 0.88281\n",
      "Iter 20480, Minibatch Loss= 0.163035, Training Accuracy= 0.96875\n",
      "Iter 21760, Minibatch Loss= 0.361359, Training Accuracy= 0.87500\n",
      "Iter 23040, Minibatch Loss= 0.114994, Training Accuracy= 0.96094\n",
      "Iter 24320, Minibatch Loss= 0.331992, Training Accuracy= 0.87500\n",
      "Iter 25600, Minibatch Loss= 0.335893, Training Accuracy= 0.90625\n",
      "Iter 26880, Minibatch Loss= 0.207432, Training Accuracy= 0.92969\n",
      "Iter 28160, Minibatch Loss= 0.294329, Training Accuracy= 0.88281\n",
      "Iter 29440, Minibatch Loss= 0.245078, Training Accuracy= 0.92969\n",
      "Iter 30720, Minibatch Loss= 0.236173, Training Accuracy= 0.91406\n",
      "Iter 32000, Minibatch Loss= 0.160150, Training Accuracy= 0.95312\n",
      "Iter 33280, Minibatch Loss= 0.250061, Training Accuracy= 0.92969\n",
      "Iter 34560, Minibatch Loss= 0.227535, Training Accuracy= 0.94531\n",
      "Iter 35840, Minibatch Loss= 0.205132, Training Accuracy= 0.96094\n",
      "Iter 37120, Minibatch Loss= 0.218969, Training Accuracy= 0.93750\n",
      "Iter 38400, Minibatch Loss= 0.169634, Training Accuracy= 0.91406\n",
      "Iter 39680, Minibatch Loss= 0.139369, Training Accuracy= 0.94531\n",
      "Iter 40960, Minibatch Loss= 0.218468, Training Accuracy= 0.93750\n",
      "Iter 42240, Minibatch Loss= 0.170071, Training Accuracy= 0.95312\n",
      "Iter 43520, Minibatch Loss= 0.134056, Training Accuracy= 0.95312\n",
      "Iter 44800, Minibatch Loss= 0.161910, Training Accuracy= 0.94531\n",
      "Iter 46080, Minibatch Loss= 0.086871, Training Accuracy= 0.96875\n",
      "Iter 47360, Minibatch Loss= 0.240610, Training Accuracy= 0.92969\n",
      "Iter 48640, Minibatch Loss= 0.249258, Training Accuracy= 0.92969\n",
      "Iter 49920, Minibatch Loss= 0.176693, Training Accuracy= 0.94531\n",
      "Iter 51200, Minibatch Loss= 0.124720, Training Accuracy= 0.94531\n",
      "Iter 52480, Minibatch Loss= 0.163706, Training Accuracy= 0.95312\n",
      "Iter 53760, Minibatch Loss= 0.055818, Training Accuracy= 0.97656\n",
      "Iter 55040, Minibatch Loss= 0.110946, Training Accuracy= 0.96875\n",
      "Iter 56320, Minibatch Loss= 0.132911, Training Accuracy= 0.94531\n",
      "Iter 57600, Minibatch Loss= 0.089102, Training Accuracy= 0.96094\n",
      "Iter 58880, Minibatch Loss= 0.083119, Training Accuracy= 0.97656\n",
      "Iter 60160, Minibatch Loss= 0.128176, Training Accuracy= 0.94531\n",
      "Iter 61440, Minibatch Loss= 0.219029, Training Accuracy= 0.91406\n",
      "Iter 62720, Minibatch Loss= 0.065734, Training Accuracy= 0.96875\n",
      "Iter 64000, Minibatch Loss= 0.124135, Training Accuracy= 0.94531\n",
      "Iter 65280, Minibatch Loss= 0.151380, Training Accuracy= 0.96094\n",
      "Iter 66560, Minibatch Loss= 0.078141, Training Accuracy= 0.96094\n",
      "Iter 67840, Minibatch Loss= 0.154424, Training Accuracy= 0.95312\n",
      "Iter 69120, Minibatch Loss= 0.136320, Training Accuracy= 0.96094\n",
      "Iter 70400, Minibatch Loss= 0.090296, Training Accuracy= 0.96875\n",
      "Iter 71680, Minibatch Loss= 0.085317, Training Accuracy= 0.98438\n",
      "Iter 72960, Minibatch Loss= 0.098598, Training Accuracy= 0.96094\n",
      "Iter 74240, Minibatch Loss= 0.233451, Training Accuracy= 0.93750\n",
      "Iter 75520, Minibatch Loss= 0.086942, Training Accuracy= 0.97656\n",
      "Iter 76800, Minibatch Loss= 0.089581, Training Accuracy= 0.98438\n",
      "Iter 78080, Minibatch Loss= 0.103105, Training Accuracy= 0.96094\n",
      "Iter 79360, Minibatch Loss= 0.074971, Training Accuracy= 0.97656\n",
      "Iter 80640, Minibatch Loss= 0.058821, Training Accuracy= 0.97656\n",
      "Iter 81920, Minibatch Loss= 0.111251, Training Accuracy= 0.95312\n",
      "Iter 83200, Minibatch Loss= 0.141453, Training Accuracy= 0.95312\n",
      "Iter 84480, Minibatch Loss= 0.115618, Training Accuracy= 0.96875\n",
      "Iter 85760, Minibatch Loss= 0.120526, Training Accuracy= 0.96094\n",
      "Iter 87040, Minibatch Loss= 0.112018, Training Accuracy= 0.96094\n",
      "Iter 88320, Minibatch Loss= 0.075655, Training Accuracy= 0.96875\n",
      "Iter 89600, Minibatch Loss= 0.086166, Training Accuracy= 0.96094\n",
      "Iter 90880, Minibatch Loss= 0.178045, Training Accuracy= 0.96094\n",
      "Iter 92160, Minibatch Loss= 0.188414, Training Accuracy= 0.96094\n",
      "Iter 93440, Minibatch Loss= 0.056618, Training Accuracy= 0.98438\n",
      "Iter 94720, Minibatch Loss= 0.059804, Training Accuracy= 0.98438\n",
      "Iter 96000, Minibatch Loss= 0.036560, Training Accuracy= 0.99219\n",
      "Iter 97280, Minibatch Loss= 0.097042, Training Accuracy= 0.97656\n",
      "Iter 98560, Minibatch Loss= 0.082445, Training Accuracy= 0.96875\n",
      "Iter 99840, Minibatch Loss= 0.069339, Training Accuracy= 0.97656\n",
      "Optimization Finished!\n",
      "Testing Accuracy: 0.992188\n"
     ]
    }
   ],
   "source": [
    "# Launch the graph\n",
    "with tf.Session() as sess:\n",
    "    sess.run(init)\n",
    "    step = 1\n",
    "    # Keep training until reach max iterations\n",
    "    while step * batch_size < training_iters:\n",
    "        batch_x, batch_y = mnist.train.next_batch(batch_size)\n",
    "        # Reshape data to get 28 seq of 28 elements\n",
    "        batch_x = batch_x.reshape((batch_size, n_steps, n_input))\n",
    "        # Run optimization op (backprop)\n",
    "        sess.run(optimizer, feed_dict={x: batch_x, y: batch_y})\n",
    "        if step % display_step == 0:\n",
    "            # Calculate batch accuracy\n",
    "            acc = sess.run(accuracy, feed_dict={x: batch_x, y: batch_y})\n",
    "            # Calculate batch loss\n",
    "            loss = sess.run(cost, feed_dict={x: batch_x, y: batch_y})\n",
    "            print \"Iter \" + str(step*batch_size) + \", Minibatch Loss= \" + \\\n",
    "                  \"{:.6f}\".format(loss) + \", Training Accuracy= \" + \\\n",
    "                  \"{:.5f}\".format(acc)\n",
    "        step += 1\n",
    "    print \"Optimization Finished!\"\n",
    "\n",
    "    # Calculate accuracy for 128 mnist test images\n",
    "    test_len = 128\n",
    "    test_data = mnist.test.images[:test_len].reshape((-1, n_steps, n_input))\n",
    "    test_label = mnist.test.labels[:test_len]\n",
    "    print \"Testing Accuracy:\", \\\n",
    "        sess.run(accuracy, feed_dict={x: test_data, y: test_label})"
   ]
  },
  {
   "cell_type": "code",
   "execution_count": 7,
   "metadata": {
    "collapsed": false
   },
   "outputs": [
    {
     "name": "stdout",
     "output_type": "stream",
     "text": [
      "[[[ 0.          0.          0.          0.          0.          0.          0.\n",
      "    0.          0.          0.          0.          0.          0.          0.\n",
      "    0.          0.          0.          0.          0.          0.          0.\n",
      "    0.          0.          0.          0.          0.          0.          0.        ]\n",
      "  [ 0.          0.          0.          0.          0.          0.          0.\n",
      "    0.          0.          0.          0.          0.          0.          0.\n",
      "    0.          0.          0.          0.          0.          0.          0.\n",
      "    0.          0.          0.          0.          0.          0.          0.        ]\n",
      "  [ 0.          0.          0.          0.          0.          0.          0.\n",
      "    0.          0.          0.          0.          0.          0.          0.\n",
      "    0.          0.          0.          0.          0.          0.          0.\n",
      "    0.          0.          0.          0.          0.          0.          0.        ]\n",
      "  [ 0.          0.          0.          0.          0.          0.          0.\n",
      "    0.          0.          0.          0.          0.          0.          0.\n",
      "    0.          0.          0.          0.          0.          0.          0.\n",
      "    0.          0.          0.          0.          0.          0.          0.        ]\n",
      "  [ 0.          0.          0.          0.          0.          0.          0.\n",
      "    0.          0.          0.          0.          0.          0.          0.\n",
      "    0.          0.          0.          0.          0.          0.          0.\n",
      "    0.          0.          0.          0.          0.          0.          0.        ]\n",
      "  [ 0.          0.          0.          0.          0.          0.          0.\n",
      "    0.          0.          0.          0.          0.          0.          0.\n",
      "    0.          0.          0.          0.          0.          0.          0.\n",
      "    0.          0.          0.          0.          0.          0.          0.        ]\n",
      "  [ 0.          0.          0.          0.          0.          0.          0.\n",
      "    0.          0.          0.          0.          0.          0.          0.\n",
      "    0.          0.          0.          0.          0.          0.          0.\n",
      "    0.          0.          0.          0.          0.          0.          0.        ]\n",
      "  [ 0.          0.          0.          0.          0.          0.\n",
      "    0.32941177  0.72549021  0.62352943  0.59215689  0.23529413  0.14117648\n",
      "    0.          0.          0.          0.          0.          0.          0.\n",
      "    0.          0.          0.          0.          0.          0.          0.\n",
      "    0.          0.        ]\n",
      "  [ 0.          0.          0.          0.          0.          0.\n",
      "    0.8705883   0.99607849  0.99607849  0.99607849  0.99607849  0.9450981\n",
      "    0.77647066  0.77647066  0.77647066  0.77647066  0.77647066  0.77647066\n",
      "    0.77647066  0.77647066  0.66666669  0.20392159  0.          0.          0.\n",
      "    0.          0.          0.        ]\n",
      "  [ 0.          0.          0.          0.          0.          0.\n",
      "    0.26274511  0.44705886  0.28235295  0.44705886  0.63921571  0.89019614\n",
      "    0.99607849  0.88235301  0.99607849  0.99607849  0.99607849  0.98039222\n",
      "    0.89803928  0.99607849  0.99607849  0.54901963  0.          0.          0.\n",
      "    0.          0.          0.        ]\n",
      "  [ 0.          0.          0.          0.          0.          0.          0.\n",
      "    0.          0.          0.          0.          0.06666667  0.25882354\n",
      "    0.05490196  0.26274511  0.26274511  0.26274511  0.23137257  0.08235294\n",
      "    0.92549026  0.99607849  0.41568631  0.          0.          0.          0.\n",
      "    0.          0.        ]\n",
      "  [ 0.          0.          0.          0.          0.          0.          0.\n",
      "    0.          0.          0.          0.          0.          0.          0.\n",
      "    0.          0.          0.          0.          0.32549021  0.99215692\n",
      "    0.81960791  0.07058824  0.          0.          0.          0.          0.\n",
      "    0.        ]\n",
      "  [ 0.          0.          0.          0.          0.          0.          0.\n",
      "    0.          0.          0.          0.          0.          0.          0.\n",
      "    0.          0.          0.          0.08627451  0.91372555  1.\n",
      "    0.32549021  0.          0.          0.          0.          0.          0.\n",
      "    0.        ]\n",
      "  [ 0.          0.          0.          0.          0.          0.          0.\n",
      "    0.          0.          0.          0.          0.          0.          0.\n",
      "    0.          0.          0.          0.50588238  0.99607849  0.9333334\n",
      "    0.17254902  0.          0.          0.          0.          0.          0.\n",
      "    0.        ]\n",
      "  [ 0.          0.          0.          0.          0.          0.          0.\n",
      "    0.          0.          0.          0.          0.          0.          0.\n",
      "    0.          0.          0.23137257  0.97647065  0.99607849  0.24313727\n",
      "    0.          0.          0.          0.          0.          0.          0.\n",
      "    0.        ]\n",
      "  [ 0.          0.          0.          0.          0.          0.          0.\n",
      "    0.          0.          0.          0.          0.          0.          0.\n",
      "    0.          0.          0.52156866  0.99607849  0.73333335  0.01960784\n",
      "    0.          0.          0.          0.          0.          0.          0.\n",
      "    0.        ]\n",
      "  [ 0.          0.          0.          0.          0.          0.          0.\n",
      "    0.          0.          0.          0.          0.          0.          0.\n",
      "    0.          0.03529412  0.80392164  0.97254908  0.227451    0.          0.\n",
      "    0.          0.          0.          0.          0.          0.          0.        ]\n",
      "  [ 0.          0.          0.          0.          0.          0.          0.\n",
      "    0.          0.          0.          0.          0.          0.          0.\n",
      "    0.          0.49411768  0.99607849  0.71372551  0.          0.          0.\n",
      "    0.          0.          0.          0.          0.          0.          0.        ]\n",
      "  [ 0.          0.          0.          0.          0.          0.          0.\n",
      "    0.          0.          0.          0.          0.          0.          0.\n",
      "    0.29411766  0.98431379  0.94117653  0.22352943  0.          0.          0.\n",
      "    0.          0.          0.          0.          0.          0.          0.        ]\n",
      "  [ 0.          0.          0.          0.          0.          0.          0.\n",
      "    0.          0.          0.          0.          0.          0.\n",
      "    0.07450981  0.86666673  0.99607849  0.65098041  0.          0.          0.\n",
      "    0.          0.          0.          0.          0.          0.          0.\n",
      "    0.        ]\n",
      "  [ 0.          0.          0.          0.          0.          0.          0.\n",
      "    0.          0.          0.          0.          0.          0.01176471\n",
      "    0.7960785   0.99607849  0.8588236   0.13725491  0.          0.          0.\n",
      "    0.          0.          0.          0.          0.          0.          0.\n",
      "    0.        ]\n",
      "  [ 0.          0.          0.          0.          0.          0.          0.\n",
      "    0.          0.          0.          0.          0.          0.14901961\n",
      "    0.99607849  0.99607849  0.3019608   0.          0.          0.          0.\n",
      "    0.          0.          0.          0.          0.          0.          0.\n",
      "    0.        ]\n",
      "  [ 0.          0.          0.          0.          0.          0.          0.\n",
      "    0.          0.          0.          0.          0.12156864  0.87843144\n",
      "    0.99607849  0.45098042  0.00392157  0.          0.          0.          0.\n",
      "    0.          0.          0.          0.          0.          0.          0.\n",
      "    0.        ]\n",
      "  [ 0.          0.          0.          0.          0.          0.          0.\n",
      "    0.          0.          0.          0.          0.52156866  0.99607849\n",
      "    0.99607849  0.20392159  0.          0.          0.          0.          0.\n",
      "    0.          0.          0.          0.          0.          0.          0.\n",
      "    0.        ]\n",
      "  [ 0.          0.          0.          0.          0.          0.          0.\n",
      "    0.          0.          0.          0.2392157   0.94901967  0.99607849\n",
      "    0.99607849  0.20392159  0.          0.          0.          0.          0.\n",
      "    0.          0.          0.          0.          0.          0.          0.\n",
      "    0.        ]\n",
      "  [ 0.          0.          0.          0.          0.          0.          0.\n",
      "    0.          0.          0.          0.47450984  0.99607849  0.99607849\n",
      "    0.8588236   0.15686275  0.          0.          0.          0.          0.\n",
      "    0.          0.          0.          0.          0.          0.          0.\n",
      "    0.        ]\n",
      "  [ 0.          0.          0.          0.          0.          0.          0.\n",
      "    0.          0.          0.          0.47450984  0.99607849  0.81176478\n",
      "    0.07058824  0.          0.          0.          0.          0.          0.\n",
      "    0.          0.          0.          0.          0.          0.          0.\n",
      "    0.        ]\n",
      "  [ 0.          0.          0.          0.          0.          0.          0.\n",
      "    0.          0.          0.          0.          0.          0.          0.\n",
      "    0.          0.          0.          0.          0.          0.          0.\n",
      "    0.          0.          0.          0.          0.          0.          0.        ]]]\n",
      "[[ 0.  0.  0.  0.  0.  0.  0.  1.  0.  0.]]\n"
     ]
    }
   ],
   "source": [
    "test_data = mnist.test.images[:1].reshape((-1, n_steps, n_input))\n",
    "print test_data\n",
    "test_label = mnist.test.labels[:1]\n",
    "print test_label\n"
   ]
  },
  {
   "cell_type": "code",
   "execution_count": 11,
   "metadata": {
    "collapsed": false
   },
   "outputs": [
    {
     "name": "stdout",
     "output_type": "stream",
     "text": [
      "(1, 28, 28)\n",
      "7\n"
     ]
    },
    {
     "data": {
      "image/png": "[encoded data removed]",
      "text/plain": [
       "<matplotlib.figure.Figure at 0x11f455f50>"
      ]
     },
     "metadata": {},
     "output_type": "display_data"
    }
   ],
   "source": [
    "print test_data.shape\n",
    "%matplotlib inline\n",
    "import matplotlib.pyplot as plt\n",
    "first_array=test_data[0]\n",
    "#Not sure you even have to do that if you just want to visualize it\n",
    "#first_array=255*first_array\n",
    "#first_array=first_array.astype(\"uint8\")\n",
    "plt.imshow(first_array)\n",
    "print np.argmax(test_label)"
   ]
  },
  {
   "cell_type": "code",
   "execution_count": null,
   "metadata": {
    "collapsed": true
   },
   "outputs": [],
   "source": []
  }
 ],
 "metadata": {
  "kernelspec": {
   "display_name": "Python 2",
   "language": "python",
   "name": "python2"
  },
  "language_info": {
   "codemirror_mode": {
    "name": "ipython",
    "version": 2
   },
   "file_extension": ".py",
   "mimetype": "text/x-python",
   "name": "python",
   "nbconvert_exporter": "python",
   "pygments_lexer": "ipython2",
   "version": "2.7.10"
  }
 },
 "nbformat": 4,
 "nbformat_minor": 0
}
